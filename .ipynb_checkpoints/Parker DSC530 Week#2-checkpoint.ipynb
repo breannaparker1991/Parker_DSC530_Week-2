{
 "cells": [
  {
   "cell_type": "code",
   "execution_count": null,
   "id": "3ffacac3",
   "metadata": {},
   "outputs": [],
   "source": [
    "#Display the text “Hello World! My name is ....\""
   ]
  },
  {
   "cell_type": "code",
   "execution_count": 1,
   "id": "ae3c5b11",
   "metadata": {},
   "outputs": [
    {
     "name": "stdout",
     "output_type": "stream",
     "text": [
      "Hello World, my name is Bree!\n"
     ]
    }
   ],
   "source": [
    "print('Hello World, my name is Bree!')"
   ]
  },
  {
   "cell_type": "code",
   "execution_count": null,
   "id": "ad374a26",
   "metadata": {},
   "outputs": [],
   "source": [
    "#Add two numbers together"
   ]
  },
  {
   "cell_type": "code",
   "execution_count": 2,
   "id": "67313d81",
   "metadata": {},
   "outputs": [
    {
     "data": {
      "text/plain": [
       "7"
      ]
     },
     "execution_count": 2,
     "metadata": {},
     "output_type": "execute_result"
    }
   ],
   "source": [
    "5 + 2"
   ]
  },
  {
   "cell_type": "code",
   "execution_count": null,
   "id": "0e50f326",
   "metadata": {},
   "outputs": [],
   "source": [
    "#Subtract a number from another number"
   ]
  },
  {
   "cell_type": "code",
   "execution_count": 3,
   "id": "1afb3245",
   "metadata": {},
   "outputs": [
    {
     "data": {
      "text/plain": [
       "4"
      ]
     },
     "execution_count": 3,
     "metadata": {},
     "output_type": "execute_result"
    }
   ],
   "source": [
    "7 - 3"
   ]
  },
  {
   "cell_type": "code",
   "execution_count": null,
   "id": "6f6d2205",
   "metadata": {},
   "outputs": [],
   "source": [
    "#Divide between two numbers"
   ]
  },
  {
   "cell_type": "code",
   "execution_count": 5,
   "id": "587e9d87",
   "metadata": {},
   "outputs": [
    {
     "data": {
      "text/plain": [
       "2.0"
      ]
     },
     "execution_count": 5,
     "metadata": {},
     "output_type": "execute_result"
    }
   ],
   "source": [
    "8 / 4"
   ]
  },
  {
   "cell_type": "code",
   "execution_count": null,
   "id": "9f8c2d80",
   "metadata": {},
   "outputs": [],
   "source": [
    "#Multiply two numbers"
   ]
  },
  {
   "cell_type": "code",
   "execution_count": 6,
   "id": "d6db81ec",
   "metadata": {},
   "outputs": [
    {
     "data": {
      "text/plain": [
       "12"
      ]
     },
     "execution_count": 6,
     "metadata": {},
     "output_type": "execute_result"
    }
   ],
   "source": [
    "3 * 4"
   ]
  },
  {
   "cell_type": "code",
   "execution_count": null,
   "id": "7544b726",
   "metadata": {},
   "outputs": [],
   "source": [
    "#Concatenate two strings together (any words)"
   ]
  },
  {
   "cell_type": "code",
   "execution_count": 7,
   "id": "67715fa3",
   "metadata": {},
   "outputs": [
    {
     "name": "stdout",
     "output_type": "stream",
     "text": [
      "HelloBob\n"
     ]
    }
   ],
   "source": [
    "print (\"Hello\" + \"Bob\")"
   ]
  },
  {
   "cell_type": "code",
   "execution_count": 8,
   "id": "348b611f",
   "metadata": {},
   "outputs": [
    {
     "data": {
      "text/plain": [
       "'Hellobob'"
      ]
     },
     "execution_count": 8,
     "metadata": {},
     "output_type": "execute_result"
    }
   ],
   "source": [
    "\"Hello\" + \"bob\""
   ]
  },
  {
   "cell_type": "code",
   "execution_count": null,
   "id": "b717153e",
   "metadata": {},
   "outputs": [],
   "source": [
    "#Create a list of 4 items (can be strings, numbers, both)"
   ]
  },
  {
   "cell_type": "code",
   "execution_count": 18,
   "id": "b3a5fa6f",
   "metadata": {},
   "outputs": [],
   "source": [
    "list = [2,3,4,5]"
   ]
  },
  {
   "cell_type": "code",
   "execution_count": null,
   "id": "b736387b",
   "metadata": {},
   "outputs": [],
   "source": [
    "#Append an item to your list (again, can be a string, number)"
   ]
  },
  {
   "cell_type": "code",
   "execution_count": 15,
   "id": "eb1aa037",
   "metadata": {},
   "outputs": [],
   "source": [
    "list.append(5)"
   ]
  },
  {
   "cell_type": "code",
   "execution_count": 16,
   "id": "97d8f4f6",
   "metadata": {},
   "outputs": [
    {
     "name": "stdout",
     "output_type": "stream",
     "text": [
      "[2, 3, 3, 5, 5]\n"
     ]
    }
   ],
   "source": [
    "print(list)"
   ]
  },
  {
   "cell_type": "code",
   "execution_count": null,
   "id": "755ce395",
   "metadata": {},
   "outputs": [],
   "source": [
    "#Create a tuple with 4 items (can be strings, numbers, both)"
   ]
  },
  {
   "cell_type": "code",
   "execution_count": 17,
   "id": "abedd7b9",
   "metadata": {},
   "outputs": [
    {
     "name": "stdout",
     "output_type": "stream",
     "text": [
      "('hello', 4, 5)\n"
     ]
    }
   ],
   "source": [
    "tuple = (\"hello\", 4, 5)\n",
    "print(tuple)"
   ]
  },
  {
   "cell_type": "code",
   "execution_count": null,
   "id": "2b0e6674",
   "metadata": {},
   "outputs": [],
   "source": []
  }
 ],
 "metadata": {
  "kernelspec": {
   "display_name": "Python 3 (ipykernel)",
   "language": "python",
   "name": "python3"
  },
  "language_info": {
   "codemirror_mode": {
    "name": "ipython",
    "version": 3
   },
   "file_extension": ".py",
   "mimetype": "text/x-python",
   "name": "python",
   "nbconvert_exporter": "python",
   "pygments_lexer": "ipython3",
   "version": "3.9.5"
  }
 },
 "nbformat": 4,
 "nbformat_minor": 5
}
