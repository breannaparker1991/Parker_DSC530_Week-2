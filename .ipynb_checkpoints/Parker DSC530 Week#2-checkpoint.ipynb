{
 "cells": [
  {
   "cell_type": "code",
   "execution_count": 1,
   "id": "ae3c5b11",
   "metadata": {},
   "outputs": [
    {
     "name": "stdout",
     "output_type": "stream",
     "text": [
      "Hello World, my name is Bree!\n"
     ]
    }
   ],
   "source": [
    "print('Hello World, my name is Bree!')"
   ]
  },
  {
   "cell_type": "code",
   "execution_count": null,
   "id": "2ddff51b",
   "metadata": {},
   "outputs": [],
   "source": []
  },
  {
   "cell_type": "code",
   "execution_count": 2,
   "id": "67313d81",
   "metadata": {},
   "outputs": [
    {
     "data": {
      "text/plain": [
       "7"
      ]
     },
     "execution_count": 2,
     "metadata": {},
     "output_type": "execute_result"
    }
   ],
   "source": [
    "5 + 2"
   ]
  },
  {
   "cell_type": "code",
   "execution_count": 3,
   "id": "1afb3245",
   "metadata": {},
   "outputs": [
    {
     "data": {
      "text/plain": [
       "4"
      ]
     },
     "execution_count": 3,
     "metadata": {},
     "output_type": "execute_result"
    }
   ],
   "source": [
    "7 - 3"
   ]
  },
  {
   "cell_type": "code",
   "execution_count": 4,
   "id": "a8312e55",
   "metadata": {},
   "outputs": [
    {
     "data": {
      "text/plain": [
       "0"
      ]
     },
     "execution_count": 4,
     "metadata": {},
     "output_type": "execute_result"
    }
   ],
   "source": [
    "8 % 4"
   ]
  },
  {
   "cell_type": "code",
   "execution_count": 5,
   "id": "587e9d87",
   "metadata": {},
   "outputs": [
    {
     "data": {
      "text/plain": [
       "2.0"
      ]
     },
     "execution_count": 5,
     "metadata": {},
     "output_type": "execute_result"
    }
   ],
   "source": [
    "8 / 4"
   ]
  },
  {
   "cell_type": "code",
   "execution_count": 6,
   "id": "d6db81ec",
   "metadata": {},
   "outputs": [
    {
     "data": {
      "text/plain": [
       "12"
      ]
     },
     "execution_count": 6,
     "metadata": {},
     "output_type": "execute_result"
    }
   ],
   "source": [
    "3 * 4"
   ]
  },
  {
   "cell_type": "code",
   "execution_count": 7,
   "id": "67715fa3",
   "metadata": {},
   "outputs": [
    {
     "name": "stdout",
     "output_type": "stream",
     "text": [
      "HelloBob\n"
     ]
    }
   ],
   "source": [
    "print (\"Hello\" + \"Bob\")"
   ]
  },
  {
   "cell_type": "code",
   "execution_count": 8,
   "id": "348b611f",
   "metadata": {},
   "outputs": [
    {
     "data": {
      "text/plain": [
       "'Hellobob'"
      ]
     },
     "execution_count": 8,
     "metadata": {},
     "output_type": "execute_result"
    }
   ],
   "source": [
    "\"Hello\" + \"bob\""
   ]
  },
  {
   "cell_type": "code",
   "execution_count": 9,
   "id": "a7facf33",
   "metadata": {},
   "outputs": [],
   "source": [
    "list = (2, 3, 3, 5)"
   ]
  },
  {
   "cell_type": "code",
   "execution_count": 10,
   "id": "5c5c6e74",
   "metadata": {},
   "outputs": [
    {
     "ename": "NameError",
     "evalue": "name 'append' is not defined",
     "output_type": "error",
     "traceback": [
      "\u001b[1;31m---------------------------------------------------------------------------\u001b[0m",
      "\u001b[1;31mNameError\u001b[0m                                 Traceback (most recent call last)",
      "Cell \u001b[1;32mIn[10], line 1\u001b[0m\n\u001b[1;32m----> 1\u001b[0m \u001b[43mappend\u001b[49m\u001b[38;5;241m.\u001b[39mlist(\u001b[38;5;241m5\u001b[39m)\n",
      "\u001b[1;31mNameError\u001b[0m: name 'append' is not defined"
     ]
    }
   ],
   "source": [
    "append.list(5)"
   ]
  },
  {
   "cell_type": "markdown",
   "id": "e5800da8",
   "metadata": {},
   "source": [
    "list.append(6)"
   ]
  },
  {
   "cell_type": "code",
   "execution_count": 12,
   "id": "6b3edea9",
   "metadata": {},
   "outputs": [
    {
     "ename": "AttributeError",
     "evalue": "'tuple' object has no attribute 'append'",
     "output_type": "error",
     "traceback": [
      "\u001b[1;31m---------------------------------------------------------------------------\u001b[0m",
      "\u001b[1;31mAttributeError\u001b[0m                            Traceback (most recent call last)",
      "Cell \u001b[1;32mIn[12], line 1\u001b[0m\n\u001b[1;32m----> 1\u001b[0m \u001b[38;5;28;43mlist\u001b[39;49m\u001b[38;5;241;43m.\u001b[39;49m\u001b[43mappend\u001b[49m(\u001b[38;5;124m\"\u001b[39m\u001b[38;5;124m5\u001b[39m\u001b[38;5;124m\"\u001b[39m)\n",
      "\u001b[1;31mAttributeError\u001b[0m: 'tuple' object has no attribute 'append'"
     ]
    }
   ],
   "source": [
    "list.append(\"5\")"
   ]
  },
  {
   "cell_type": "code",
   "execution_count": 13,
   "id": "bd474356",
   "metadata": {},
   "outputs": [
    {
     "ename": "NameError",
     "evalue": "name 'append' is not defined",
     "output_type": "error",
     "traceback": [
      "\u001b[1;31m---------------------------------------------------------------------------\u001b[0m",
      "\u001b[1;31mNameError\u001b[0m                                 Traceback (most recent call last)",
      "Cell \u001b[1;32mIn[13], line 2\u001b[0m\n\u001b[0;32m      1\u001b[0m \u001b[38;5;28mlist\u001b[39m \u001b[38;5;241m=\u001b[39m [\u001b[38;5;241m2\u001b[39m,\u001b[38;5;241m3\u001b[39m,\u001b[38;5;241m3\u001b[39m,\u001b[38;5;241m5\u001b[39m]\n\u001b[1;32m----> 2\u001b[0m \u001b[43mappend\u001b[49m\u001b[38;5;241m.\u001b[39mlist(\u001b[38;5;241m5\u001b[39m)\n\u001b[0;32m      3\u001b[0m \u001b[38;5;28mprint\u001b[39m(\u001b[38;5;28mlist\u001b[39m)\n",
      "\u001b[1;31mNameError\u001b[0m: name 'append' is not defined"
     ]
    }
   ],
   "source": [
    "list = [2,3,3,5]\n",
    "append.list(5)\n",
    "print(list)"
   ]
  },
  {
   "cell_type": "code",
   "execution_count": 14,
   "id": "b3a5fa6f",
   "metadata": {},
   "outputs": [
    {
     "ename": "NameError",
     "evalue": "name 'append' is not defined",
     "output_type": "error",
     "traceback": [
      "\u001b[1;31m---------------------------------------------------------------------------\u001b[0m",
      "\u001b[1;31mNameError\u001b[0m                                 Traceback (most recent call last)",
      "Cell \u001b[1;32mIn[14], line 1\u001b[0m\n\u001b[1;32m----> 1\u001b[0m \u001b[43mappend\u001b[49m\u001b[38;5;241m.\u001b[39mlist(\u001b[38;5;124m\"\u001b[39m\u001b[38;5;124m5\u001b[39m\u001b[38;5;124m\"\u001b[39m)\n\u001b[0;32m      2\u001b[0m \u001b[38;5;28mprint\u001b[39m(\u001b[38;5;28mlist\u001b[39m)\n",
      "\u001b[1;31mNameError\u001b[0m: name 'append' is not defined"
     ]
    }
   ],
   "source": [
    "append.list(\"5\")\n",
    "print(list)"
   ]
  },
  {
   "cell_type": "code",
   "execution_count": 15,
   "id": "eb1aa037",
   "metadata": {},
   "outputs": [],
   "source": [
    "list.append(5)"
   ]
  },
  {
   "cell_type": "code",
   "execution_count": 16,
   "id": "97d8f4f6",
   "metadata": {},
   "outputs": [
    {
     "name": "stdout",
     "output_type": "stream",
     "text": [
      "[2, 3, 3, 5, 5]\n"
     ]
    }
   ],
   "source": [
    "print(list)"
   ]
  },
  {
   "cell_type": "code",
   "execution_count": 17,
   "id": "abedd7b9",
   "metadata": {},
   "outputs": [
    {
     "name": "stdout",
     "output_type": "stream",
     "text": [
      "('hello', 4, 5)\n"
     ]
    }
   ],
   "source": [
    "tuple = (\"hello\", 4, 5)\n",
    "print(tuple)"
   ]
  },
  {
   "cell_type": "code",
   "execution_count": null,
   "id": "2b0e6674",
   "metadata": {},
   "outputs": [],
   "source": []
  }
 ],
 "metadata": {
  "kernelspec": {
   "display_name": "Python 3 (ipykernel)",
   "language": "python",
   "name": "python3"
  },
  "language_info": {
   "codemirror_mode": {
    "name": "ipython",
    "version": 3
   },
   "file_extension": ".py",
   "mimetype": "text/x-python",
   "name": "python",
   "nbconvert_exporter": "python",
   "pygments_lexer": "ipython3",
   "version": "3.9.5"
  }
 },
 "nbformat": 4,
 "nbformat_minor": 5
}
